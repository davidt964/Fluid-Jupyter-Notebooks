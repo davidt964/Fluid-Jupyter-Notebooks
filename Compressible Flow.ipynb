{
 "cells": [
  {
   "cell_type": "markdown",
   "metadata": {},
   "source": [
    "# Fluids Personal Project\n",
    "Hi! My name is David Tran, and I am currently an undergraduate student at UCLA majoring in Aerospace Engineering. I created these notebooks in my spare time as a personal project to familiarize myself with Python. I hope that you enjoy these notebooks and find some use from them (as rudimentary and basic as they are)."
   ]
  },
  {
   "cell_type": "code",
   "execution_count": 10,
   "metadata": {},
   "outputs": [],
   "source": [
    "#Import packages\n",
    "import numpy as np\n",
    "from matplotlib import pyplot\n",
    "import time, sys\n",
    "import math\n",
    "import matplotlib.pyplot as plt\n",
    "from matplotlib import rc\n",
    "import sympy\n",
    "from sympy.solvers import solve\n",
    "from sympy import Symbol\n",
    "from sympy import *\n",
    "#!pip install jupyter_contrib_nbextensions\n",
    "#!jupyter contrib nbextension install --user\n",
    "#!jupyter nbextension enable codefolding/main\n",
    "#!pip install sympy"
   ]
  },
  {
   "cell_type": "markdown",
   "metadata": {},
   "source": [
    "# General Overview\n",
    "Flow can be categorized into one of two categories: incompressible flow ($M \\leq 0.3$) and compressible flow ($M > 0.3)$. In aerodynamics, incompressible flow fails to provide accurate results due to the compressible effects of gases at speeds greater than Mach Number 0.3. Thus, it is useful to construct a set of tools that expedite compressible flow calculations, especially considering the often lengthy equations involved! This first set of functions simply calculates the speed of sound for a given gas at a given temerature $T$ and the Mach Number for that gas in a flow with velocity $u$. The local speed of sound $a$ for a given gas is given by\n",
    "    $$a = \\sqrt{\\gamma R T} $$\n",
    "where $\\gamma$ is the ratio of specific heats for a gas, $R = \\frac{\\bar{R}}{M}$ is the gas constant for the specified gas, and $T$ is the temperature in Kelvin."
   ]
  },
  {
   "cell_type": "code",
   "execution_count": 46,
   "metadata": {},
   "outputs": [],
   "source": [
    "#Generate plots in line\n",
    "%matplotlib inline\n",
    "\n",
    "#Constants and variables\n",
    "R̄ = 8314 #J/kmol*K\n",
    "\n",
    "#Function that performs everything\n",
    "def soundSpeed(gas, units, temp):\n",
    "    valid_input = [\"He\", \"he\", \"Air\", \"air\"]\n",
    "    if gas not in valid_input:\n",
    "        raise Exception('Invalid gas')\n",
    "    if gas == \"He\" or gas == \"he\":\n",
    "        R = R̄/4.002602 #gas constant for Helium in J/kg*K\n",
    "        γ = 1.66 #ratio of specific heats for helium\n",
    "    elif gas == \"Air\" or gas == \"air\":\n",
    "        R = R̄/28.97\n",
    "        γ = 1.40 #ratio of specific heats for air\n",
    "    if units == \"K\":\n",
    "        T = temp;\n",
    "        a = math.sqrt(γ * R * T)\n",
    "        return a\n",
    "    elif units == \"C\":\n",
    "        T = temp + 273.15\n",
    "\n",
    "def MachNumber(u,a):\n",
    "    M = u/a\n",
    "    return M"
   ]
  },
  {
   "cell_type": "code",
   "execution_count": 47,
   "metadata": {
    "scrolled": true
   },
   "outputs": [],
   "source": [
    "x = np.zeros(10)\n",
    "y = np.zeros(10)\n",
    "\n",
    "for i in range(10):\n",
    "    x[i] = soundSpeed(\"air\", \"K\", 100*i + 100)\n",
    "    y[i] = MachNumber(100,x[i])\n",
    "       \n",
    "#This plot doesn't say anything important, I just created it to familiarize myself with the plotting functions\n",
    "#plt.rc('text', usetex=True)\n",
    "#plt.rc('font', family='serif')\n",
    "#plt.plot(x,y)\n",
    "#plt.title(r'Speed of sound $a$ vs. Mach Number for air at increasing temperature and constant velocity')\n",
    "#plt.xlabel(r'Speed of Sound $a$ (m/s)')\n",
    "#plt.ylabel(r'Mach Number $M$')\n",
    "#plt.show()"
   ]
  },
  {
   "cell_type": "markdown",
   "metadata": {},
   "source": [
    "# Compressible Flow Equations\n",
    "Assuming no normal shock occurs, the flow remains isentropic throughout the duct. Air is sucked in from a reservoir with stagnation conditions $T_0, p_0, \\rho_0$. The flow at any point can be found via\n",
    "$$\\frac{T_0}{T} = \\left[1 + \\frac{\\gamma - 1}{2}M^2 \\right]$$\n",
    "$$\\frac{p_0}{p} = \\left[1 + \\frac{\\gamma - 1}{2}M^2 \\right]^{\\frac{\\gamma}{\\gamma - 1}}$$\n",
    "$$\\frac{\\rho_0}{\\rho} = \\left[1 + \\frac{\\gamma - 1}{2}M^2 \\right]^{\\frac{1}{\\gamma - 1}}$$\n",
    "For reference, the **stagnation temperature** is defined as the temperature that the fluid would be if it were brought to rest isentropically. However, at a stagnation point, the temperature would not be the same as the stagnation temperature due to the presence of viscous effects, causing losses and ultimately reducing the temperature slightly."
   ]
  },
  {
   "cell_type": "code",
   "execution_count": 67,
   "metadata": {},
   "outputs": [
    {
     "data": {
      "text/plain": [
       "1.983521528216178"
      ]
     },
     "execution_count": 67,
     "metadata": {},
     "output_type": "execute_result"
    }
   ],
   "source": [
    "def flowTemperature(T0, MachNumber, gas):\n",
    "    valid_input = [\"He\", \"he\", \"Air\", \"air\"]\n",
    "    if MachNumber < 0 or T0 < 0:\n",
    "        error = ValueError('Mach Number must be greater than 0.')\n",
    "        raise error\n",
    "    elif gas not in valid_input:\n",
    "        raise Exception('Invalid gas')\n",
    "    if gas == \"He\" or gas == \"he\":\n",
    "        γ = 1.66\n",
    "    elif gas == \"Air\" or gas == \"air\":\n",
    "        γ = 1.40\n",
    "    factor = 1 + (γ - 1)/2 * pow(MachNumber,2)\n",
    "    T = T0/factor\n",
    "    return T\n",
    "\n",
    "def flowPressure(p0, MachNumber, gas):\n",
    "    valid_input = [\"He\", \"he\", \"Air\", \"air\"]\n",
    "    if MachNumber < 0 or p0 < 0:\n",
    "        error = ValueError('Mach Number must be greater than 0.')\n",
    "        raise error\n",
    "    elif gas not in valid_input:\n",
    "        raise Exception('Invalid gas')\n",
    "    if gas == \"He\" or gas == \"he\":\n",
    "        γ = 1.66\n",
    "    elif gas == \"Air\" or gas == \"air\":\n",
    "        γ = 1.40\n",
    "    factor = 1 + (γ - 1)/2 * pow(MachNumber,2)\n",
    "    power = γ/(γ-1)\n",
    "    p = p0/pow(factor,power)\n",
    "    return p\n",
    "\n",
    "def flowDensity(ρ0, MachNumber, gas):\n",
    "    valid_input = [\"He\", \"he\", \"Air\", \"air\"]\n",
    "    if MachNumber < 0 or ρ0 < 0:\n",
    "        error = ValueError('Mach Number must be greater than 0.')\n",
    "        raise error\n",
    "    elif gas not in valid_input:\n",
    "        raise Exception('Invalid gas')\n",
    "    if gas == \"He\" or gas == \"he\":\n",
    "        γ = 1.66\n",
    "    elif gas == \"Air\" or gas == \"air\":\n",
    "        γ = 1.40\n",
    "    factor = 1 + (γ - 1)/2 * pow(MachNumber,2)\n",
    "    power = 1/(γ-1)\n",
    "    ρ = ρ0/pow(factor,power)\n",
    "    return ρ\n",
    "\n",
    "flowTemperature(400,1.2,\"Air\")\n",
    "flowPressure(4.25,1.6,\"Air\")\n",
    "flowDensity(3.3,1.1,\"He\")"
   ]
  },
  {
   "cell_type": "markdown",
   "metadata": {},
   "source": [
    "# Normal Shocks\n",
    "Across a normal shock, it is known that the pressure to the left of the shock (upstream) $p_1$ is less than the pressure across a shock (downstream) $p_2 > p_1$. However, the stagnation pressure $p_0$ *decreases* across the shock, resulting in less capacity to extract useful work. Thus, normal shocks are seen as an undesirable phenomena in nozzles, so it is imperative to design nozzles that prevent this. Also, stagnation enthalpy $h_0 = h + \\frac{1}{2}u^2$ remains unchanged since shocks do not add or remove thermal energy. The Mach number right before $M_1$ and after a shock $M_2$ are related by equation (\\ref{machnumber}).\n",
    "\\begin{equation} \\label{machnumber}\n",
    "M_2^2 = \\frac{1 + \\frac{\\gamma - 1}{2}M_1^2}{\\gamma M_1^2 - \\frac{\\gamma - 1}{2}}\n",
    "\\tag{1}\n",
    "\\end{equation}\n",
    "Although not immediately obvious, equation (\\ref{machnumber}) states that $M_1 > 1$ and $M_2 < 1$. In other words, the flow before a shock *must* be **supersonic** and the flow after a shock must be **subsonic**. On another note, the pressure and area ratios can be obtained with\n",
    "\\begin{equation} \n",
    "\\label{pressureshock}\n",
    "\\frac{p_2}{p_1} = 1 + \\frac{2\\gamma}{\\gamma + 1}\\left(M_1^2 - 1 \\right)\n",
    "\\tag{2}\n",
    "\\end{equation}\n",
    "\\begin{equation} \\label{arearatio}\n",
    "\\frac{A}{A^*} = \\frac{1}{M}\\left\\{\\frac{2}{\\gamma + 1}\\left[1 + \\frac{\\gamma - 1}{2}M^2 \\right] \\right\\}^{\\frac{\\gamma + 1}{2(\\gamma - 1)}}\n",
    "\\tag{3}\n",
    "\\end{equation}\n",
    "where $A^*$ denotes the area at the throat. However, equation (\\ref{arearatio}) still applies if $M^* < 1$. In this instance, we must now conclude that $A^*$ is an imaginary area where the flow is accelerated isentropically to sonic condtions."
   ]
  },
  {
   "cell_type": "code",
   "execution_count": 70,
   "metadata": {},
   "outputs": [
    {
     "data": {
      "text/plain": [
       "2.4999887700192"
      ]
     },
     "execution_count": 70,
     "metadata": {},
     "output_type": "execute_result"
    }
   ],
   "source": [
    "def afterShock(M1, gas):\n",
    "    valid_input = [\"He\", \"he\", \"Air\", \"air\"]\n",
    "    if M1 < 0:\n",
    "        error = ValueError('Mach Number must be greater than 0.')\n",
    "        raise error\n",
    "    elif gas not in valid_input:\n",
    "        raise Exception('Invalid gas')\n",
    "    if gas == \"He\" or gas == \"he\":\n",
    "        γ = 1.66\n",
    "    elif gas == \"Air\" or gas == \"air\":\n",
    "        γ = 1.40\n",
    "    M2 = math.sqrt((1 + (γ - 1)/2 * pow(M1,2))/(γ * pow(M1,2) - (γ - 1)/2))\n",
    "    return M2\n",
    "\n",
    "def beforeShock(M2, gas):\n",
    "    valid_input = [\"He\", \"he\", \"Air\", \"air\"]\n",
    "    if M2 < 0:\n",
    "        error = ValueError('Mach Number must be greater than 0.')\n",
    "        raise error\n",
    "    elif gas not in valid_input:\n",
    "        raise Exception('Invalid gas')\n",
    "    if gas == \"He\" or gas == \"he\":\n",
    "        γ = 1.66\n",
    "    elif gas == \"Air\" or gas == \"air\":\n",
    "        γ = 1.40\n",
    "    M1 = math.sqrt((2 + pow(M2,2) * γ - pow(M2,2))/(2 * pow(M2,2) * γ - γ + 1))\n",
    "    return M1\n",
    "\n",
    "def areaRatioMachNumber(A, Astar, gas):\n",
    "    valid_input = [\"He\", \"he\", \"Air\", \"air\"]\n",
    "    if A < 0 or Astar < 0:\n",
    "        error = ValueError('Mach Number must be greater than 0.')\n",
    "        raise error\n",
    "    elif gas not in valid_input:\n",
    "        raise Exception('Invalid gas')\n",
    "    if gas == \"He\" or gas == \"he\":\n",
    "        γ = 1.66\n",
    "    elif gas == \"Air\" or gas == \"air\":\n",
    "        γ = 1.40\n",
    "    ratio = A/Astar\n",
    "    M = symbols('M')\n",
    "    equation = sympy.Eq(1/M * (2/(γ+1) * (1 + (γ-1)/2 * M**2))**((γ+1)/(2*(γ-1))), ratio)\n",
    "    Mach = sympy.nsolve([equation], [M], 1.1) #if Mach < 1, change 1.1 to a higher initial guess value\n",
    "    return Mach\n",
    "\n",
    "def pressureRatio(p1, M1, gas):\n",
    "    valid_input = [\"He\", \"he\", \"Air\", \"air\"]\n",
    "    if p1 < 0 or M1 < 0:\n",
    "        error = ValueError('Mach Number must be greater than 0.')\n",
    "        raise error\n",
    "    elif gas not in valid_input:\n",
    "        raise Exception('Invalid gas')\n",
    "    if gas == \"He\" or gas == \"he\":\n",
    "        γ = 1.66\n",
    "    elif gas == \"Air\" or gas == \"air\":\n",
    "        γ = 1.40\n",
    "    p2 = p1 * (1 + (2 * γ)/(γ + 1) * (pow(M1,2) - 1))\n",
    "    return p2\n",
    "\n",
    "def areaRatio(MachNumber, gas):\n",
    "    valid_input = [\"He\", \"he\", \"Air\", \"air\"]\n",
    "    if MachNumber < 0:\n",
    "        error = ValueError('Mach Number must be greater than 0.')\n",
    "        raise error\n",
    "    elif gas not in valid_input:\n",
    "        raise Exception('Invalid gas')\n",
    "    if gas == \"He\" or gas == \"he\":\n",
    "        γ = 1.66\n",
    "    elif gas == \"Air\" or gas == \"air\":\n",
    "        γ = 1.40\n",
    "    A_over_Astar = 1/MachNumber*(2/(γ+1) * (1 + ((γ-1)/2) * pow(MachNumber,2)))**((γ+1)/(2*(γ-1)))\n",
    "    return A_over_Astar\n",
    "\n",
    "afterShock(3, \"air\")\n",
    "beforeShock(0.4752,\"air\")\n",
    "areaRatioMachNumber(2.5,1,\"air\") #the actual values of A and Astar do not matter; the ratio is what matters\n",
    "areaRatio(2.44276,\"air\")"
   ]
  },
  {
   "cell_type": "markdown",
   "metadata": {},
   "source": [
    "# Example Problem\n",
    "A Laval nozzle with inlet reservoir conditions $p_{01} = 293$ kPa extracts helium. A normal shock occurs where the area ratio is $\\frac{A_s}{A_t} = 2.31$, where $A_s$ denotes the area corresponding to the location of the shock and $A_t$ is the area of the throat. Further, the exit area and throat area ratio is $\\frac{A_e}{A_t} = 4$. What is the nozzle-exit Mach number $M_e$ and the pressure $p_2$ just downstream of the shock?\n",
    "\n",
    "# Solution\n",
    "We note that the flow is isentropic until the point prior to the normal shock. Since the flow is not isentropic across the shock, stagnation conditions change (i.e. $p_{01} \\neq p_{02}$). So, we use the isentropic conditions to relate the inlet reservoir conditions to the conditions immediately upstream of the shock. However, we do not have the Mach number immediately before the shock. We use the given area ratio to obtain $M_1$, the Mach number to the left of the shock."
   ]
  },
  {
   "cell_type": "code",
   "execution_count": 50,
   "metadata": {},
   "outputs": [
    {
     "data": {
      "text/latex": [
       "$\\displaystyle \\left[\\begin{matrix}2.60613923181957\\end{matrix}\\right]$"
      ],
      "text/plain": [
       "Matrix([[2.60613923181957]])"
      ]
     },
     "execution_count": 50,
     "metadata": {},
     "output_type": "execute_result"
    }
   ],
   "source": [
    "M1 = areaRatioMachNumber(2.31,1,\"He\")\n",
    "M1"
   ]
  },
  {
   "cell_type": "markdown",
   "metadata": {},
   "source": [
    "Using the area ratio equation generates two Mach numbers: subsonic and supersonic. However, we know that the flow is supersonic prior to a shock so we only consider the supersonic result, which areaRatioMachNumber generates. On a side note, if the Mach number generated is subsonic for any reason, simply alter the initial guess value (set to 1.1) to a higher value. In this sample problem, the generated value is supersonic, which is expected. Then, using normal shock relations, we obtain $M_2$, the Mach number to the right of the shock."
   ]
  },
  {
   "cell_type": "code",
   "execution_count": 54,
   "metadata": {},
   "outputs": [
    {
     "data": {
      "text/plain": [
       "0.5442039895024414"
      ]
     },
     "execution_count": 54,
     "metadata": {},
     "output_type": "execute_result"
    }
   ],
   "source": [
    "M2 = afterShock(M1[0],\"He\")\n",
    "M2"
   ]
  },
  {
   "cell_type": "markdown",
   "metadata": {},
   "source": [
    "As expected, $M_2$ is subsonic. Since reference conditions change across the shock, we must obtain $\\frac{A_s}{A_2^*}$. So,"
   ]
  },
  {
   "cell_type": "code",
   "execution_count": 61,
   "metadata": {},
   "outputs": [
    {
     "data": {
      "text/plain": [
       "1.2481442876979914"
      ]
     },
     "execution_count": 61,
     "metadata": {},
     "output_type": "execute_result"
    }
   ],
   "source": [
    "As_over_Astar2 = areaRatio(M2, \"He\")\n",
    "As_over_Astar2"
   ]
  },
  {
   "cell_type": "markdown",
   "metadata": {},
   "source": [
    "The ratio of the exit area to the shock area is needed, which can be calculated by observing that\n",
    "$$\\frac{A_e}{A_s} = \\frac{A_e/A_t}{A_s/A_t} = \\frac{4}{2.31} = 1.7316$$\n",
    "With this, the area ratio of the exit to its reference condition can be obtained:\n",
    "$$\\frac{A_e}{A_2^*} = \\frac{A_e}{A_s}\\frac{A_s}{A_2^*} = 1.7316(1.248) = 2.1613$$\n",
    "Finally, solving for $M_e$ using the area ratio equation yields"
   ]
  },
  {
   "cell_type": "code",
   "execution_count": 62,
   "metadata": {},
   "outputs": [],
   "source": [
    "M_e = areaRatioMachNumber(2.1613, 1, \"He\")"
   ]
  },
  {
   "cell_type": "code",
   "execution_count": 63,
   "metadata": {},
   "outputs": [
    {
     "data": {
      "text/latex": [
       "$\\displaystyle \\left[\\begin{matrix}2.50912600598758\\end{matrix}\\right]$"
      ],
      "text/plain": [
       "Matrix([[2.50912600598758]])"
      ]
     },
     "execution_count": 63,
     "metadata": {},
     "output_type": "execute_result"
    }
   ],
   "source": [
    "M_e"
   ]
  },
  {
   "cell_type": "markdown",
   "metadata": {},
   "source": [
    "However, the function generates a supersonic Mach number, which is not desirable. So, the function areaRatioMachNumber (although renamed) is replicated below for convenience's sake with a slight alteration in the initial guess to a value $< 1$ in order to obtain a subsonic result."
   ]
  },
  {
   "cell_type": "code",
   "execution_count": 64,
   "metadata": {},
   "outputs": [
    {
     "data": {
      "text/latex": [
       "$\\displaystyle \\left[\\begin{matrix}0.273561938566363\\end{matrix}\\right]$"
      ],
      "text/plain": [
       "Matrix([[0.273561938566363]])"
      ]
     },
     "execution_count": 64,
     "metadata": {},
     "output_type": "execute_result"
    }
   ],
   "source": [
    "def areaRatioMachNumber1(A, Astar, gas):\n",
    "    valid_input = [\"He\", \"he\", \"Air\", \"air\"]\n",
    "    if A < 0 or Astar < 0:\n",
    "        error = ValueError('Mach Number must be greater than 0.')\n",
    "        raise error\n",
    "    elif gas not in valid_input:\n",
    "        raise Exception('Invalid gas')\n",
    "    if gas == \"He\" or gas == \"he\":\n",
    "        γ = 1.66\n",
    "    elif gas == \"Air\" or gas == \"air\":\n",
    "        γ = 1.40\n",
    "    ratio = A/Astar\n",
    "    M = symbols('M')\n",
    "    equation = sympy.Eq(1/M * (2/(γ+1) * (1 + (γ-1)/2 * M**2))**((γ+1)/(2*(γ-1))), ratio)\n",
    "    Mach = sympy.nsolve([equation], [M], 0.9) #if Mach < 1, change 1.1 to a higher initial guess value\n",
    "    return Mach\n",
    "\n",
    "areaRatioMachNumber1(2.1613,1,\"He\")"
   ]
  },
  {
   "cell_type": "markdown",
   "metadata": {},
   "source": [
    "So, $M_e = 0.2736$. For the pressure $p_2$, we first use isentropic relations to obtain $p_1$. "
   ]
  },
  {
   "cell_type": "code",
   "execution_count": 69,
   "metadata": {},
   "outputs": [
    {
     "data": {
      "text/latex": [
       "$\\displaystyle 15.2165226622798$"
      ],
      "text/plain": [
       "15.2165226622798"
      ]
     },
     "execution_count": 69,
     "metadata": {},
     "output_type": "execute_result"
    }
   ],
   "source": [
    "p1 = flowPressure(293, M1[0], \"He\")\n",
    "p1"
   ]
  },
  {
   "cell_type": "markdown",
   "metadata": {},
   "source": [
    "Then, normal shock relations are applied to calculate $p_2$."
   ]
  },
  {
   "cell_type": "code",
   "execution_count": 72,
   "metadata": {},
   "outputs": [
    {
     "data": {
      "text/latex": [
       "$\\displaystyle 125.217753658514$"
      ],
      "text/plain": [
       "125.217753658514"
      ]
     },
     "execution_count": 72,
     "metadata": {},
     "output_type": "execute_result"
    }
   ],
   "source": [
    "p2 = pressureRatio(p1, M1[0], \"He\")\n",
    "p2"
   ]
  },
  {
   "cell_type": "markdown",
   "metadata": {},
   "source": [
    "Since we know that $p_2 > p_1$, this result is unsurprising."
   ]
  }
 ],
 "metadata": {
  "kernelspec": {
   "display_name": "Python 3",
   "language": "python",
   "name": "python3"
  },
  "language_info": {
   "codemirror_mode": {
    "name": "ipython",
    "version": 3
   },
   "file_extension": ".py",
   "mimetype": "text/x-python",
   "name": "python",
   "nbconvert_exporter": "python",
   "pygments_lexer": "ipython3",
   "version": "3.8.5"
  }
 },
 "nbformat": 4,
 "nbformat_minor": 4
}
